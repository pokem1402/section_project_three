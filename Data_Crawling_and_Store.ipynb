{
 "cells": [
  {
   "cell_type": "markdown",
   "metadata": {},
   "source": [
    "# Data Crawling and Storing\n",
    "\n",
    "## 1. Data Crawling\n",
    "\n",
    "### 1.1. Data Source\n",
    "\n",
    "- [Investing.com](https://kr.investing.com/)\n",
    "- [미국 연방 준비 은행 경제 데이터](https://fred.stlouisfed.org/)\n",
    "- [한국 은행 Open API 서비스](https://ecos.bok.or.kr/api/#/)\n",
    "\n",
    "### 1.2. Feature list\n",
    "\n",
    "#### 1.2.1. target\n",
    "\n",
    "- USD/KRW : 달러 환율\n",
    "- 148020 : KBSTAR (코스피 추종 ETF)\n",
    "- SPY : S&P 500 추종 ETF\n",
    "- Gold : 금 시세\n",
    "\n",
    "#### 1.2.2. 원자재\n",
    "\n",
    "- 백금, 은, 구리, 팔라듐, 니켈, 철광석, 아연, 알루미늄, 납, 호주 석탄, 우라늄, 주석\n",
    "- WIT 유, 브렌트 유, 천연 가스, 유럽 천연가스, 아시아 LNG\n",
    "- 커피, 해바라기씨유, 밀, 보리, 옥수수, 고무, 팜유, 올리브유, 목화, 설탕\n",
    "- 소고기, 가금류, 돈육, 가축, 울\n",
    "- 생선, 새우\n",
    "  \n",
    "#### 1.2.3. 지수\n",
    "- 에너지 지수, 금속 자원 지수, 농업 원자재 지수, 산업재료 지수, 음식 및 음료 지수, 유럽 소비자 물가 지수\n",
    "- 나스닥 지수\n",
    "\n",
    "#### 1.2.4. 미국 금융 지표\n",
    "- 통화 공급량, 주간 실업 수당 청구 건수, 소비자 심리 지수, 주택 판매 지수, 고위험 채권 스프레드\n",
    "\n",
    "### 1.2.5 future target features (target의 미래)\n",
    "\n",
    "- some days : target features 3 day after\n",
    "- a week : target features 7 day after\n",
    "- a month : target features 28 day after"
   ]
  },
  {
   "cell_type": "code",
   "execution_count": 14,
   "metadata": {},
   "outputs": [],
   "source": [
    "from flask_app.db.data import DataReader"
   ]
  },
  {
   "cell_type": "code",
   "execution_count": 15,
   "metadata": {},
   "outputs": [],
   "source": [
    "\"\"\"\n",
    "    데이터 베이스 초기화\n",
    "\"\"\"\n",
    "DataReader.initDB(check_only=True)"
   ]
  },
  {
   "cell_type": "code",
   "execution_count": 16,
   "metadata": {},
   "outputs": [],
   "source": [
    "\"\"\"\n",
    "    Crawling all features\n",
    "\"\"\"\n",
    "df = DataReader.get_collect_all()"
   ]
  },
  {
   "cell_type": "code",
   "execution_count": 17,
   "metadata": {},
   "outputs": [],
   "source": [
    "df_group = DataReader.make_target_group(df)"
   ]
  },
  {
   "cell_type": "code",
   "execution_count": 18,
   "metadata": {},
   "outputs": [],
   "source": [
    "def train_test_split(df, criteria = None):\n",
    "    if criteria is None:\n",
    "        criteria = '2022-01-01'\n",
    "    train = df.loc[df.index < criteria].copy()\n",
    "    test = df.loc[df.index >= criteria].copy()\n",
    "    return train, test\n",
    "    \n",
    "x_train, x_test = train_test_split(df)"
   ]
  },
  {
   "cell_type": "code",
   "execution_count": 19,
   "metadata": {},
   "outputs": [],
   "source": [
    "y_train_3, y_test_3 = train_test_split(df_group[0])\n",
    "y_train_7, y_test_7 = train_test_split(df_group[1])\n",
    "y_train_14, y_test_14 = train_test_split(df_group[2])\n",
    "y_train_21, y_test_21 = train_test_split(df_group[3])\n",
    "y_train_28, y_test_28 = train_test_split(df_group[4])"
   ]
  },
  {
   "cell_type": "markdown",
   "metadata": {},
   "source": [
    "#### DataFrame to MySQL"
   ]
  },
  {
   "cell_type": "code",
   "execution_count": 20,
   "metadata": {},
   "outputs": [
    {
     "data": {
      "text/plain": [
       "5896"
      ]
     },
     "execution_count": 20,
     "metadata": {},
     "output_type": "execute_result"
    }
   ],
   "source": [
    "\"\"\"\n",
    "    Storing raw features to mysql local server\n",
    "\"\"\"\n",
    "DataReader.execute_import_df(df, \"finance\")"
   ]
  },
  {
   "cell_type": "code",
   "execution_count": 21,
   "metadata": {},
   "outputs": [
    {
     "data": {
      "text/plain": [
       "260"
      ]
     },
     "execution_count": 21,
     "metadata": {},
     "output_type": "execute_result"
    }
   ],
   "source": [
    "\"\"\"\n",
    "    Storing train and test data to mysql local server\n",
    "\"\"\"\n",
    "DataReader.execute_import_df(x_train, \"finance_train_x\")\n",
    "DataReader.execute_import_df(x_test, \"finance_test_x\")"
   ]
  },
  {
   "cell_type": "code",
   "execution_count": 22,
   "metadata": {},
   "outputs": [
    {
     "data": {
      "text/plain": [
       "260"
      ]
     },
     "execution_count": 22,
     "metadata": {},
     "output_type": "execute_result"
    }
   ],
   "source": [
    "DataReader.execute_import_df(y_train_3, \"finance_train_y_3\")\n",
    "DataReader.execute_import_df(y_test_3, \"finance_test_y_3\")\n",
    "DataReader.execute_import_df(y_train_7, \"finance_train_y_7\")\n",
    "DataReader.execute_import_df(y_test_7, \"finance_test_y_7\")\n",
    "DataReader.execute_import_df(y_train_14, \"finance_train_y_14\")\n",
    "DataReader.execute_import_df(y_test_14, \"finance_test_y_14\")\n",
    "DataReader.execute_import_df(y_train_21, \"finance_train_y_21\")\n",
    "DataReader.execute_import_df(y_test_21, \"finance_test_y_21\")\n",
    "DataReader.execute_import_df(y_train_28, \"finance_train_y_28\")\n",
    "DataReader.execute_import_df(y_test_28, \"finance_test_y_28\")"
   ]
  },
  {
   "cell_type": "markdown",
   "metadata": {},
   "source": [
    "MySQL to DataFrame"
   ]
  },
  {
   "cell_type": "code",
   "execution_count": 23,
   "metadata": {},
   "outputs": [],
   "source": [
    "df = DataReader.execute_export_db(\"finance\")"
   ]
  },
  {
   "cell_type": "code",
   "execution_count": 24,
   "metadata": {},
   "outputs": [],
   "source": [
    "x_train = DataReader.execute_export_db(\"finance_train_x\")\n",
    "x_test = DataReader.execute_export_db(\"finance_test_x\")"
   ]
  },
  {
   "cell_type": "code",
   "execution_count": 25,
   "metadata": {},
   "outputs": [],
   "source": [
    "y_train_3 = DataReader.execute_export_db(\"finance_train_y_3\")\n",
    "y_test_3 = DataReader.execute_export_db(\"finance_test_y_3\")\n",
    "y_train_7 = DataReader.execute_export_db(\"finance_train_y_7\")\n",
    "y_test_7 = DataReader.execute_export_db(\"finance_test_y_7\")\n",
    "y_train_14 = DataReader.execute_export_db(\"finance_train_y_14\")\n",
    "y_test_14 = DataReader.execute_export_db(\"finance_test_y_14\")\n",
    "y_train_21 = DataReader.execute_export_db(\"finance_train_y_21\")\n",
    "y_test_21 = DataReader.execute_export_db(\"finance_test_y_21\")\n",
    "y_train_28 = DataReader.execute_export_db(\"finance_train_y_28\")\n",
    "y_test_28 = DataReader.execute_export_db(\"finance_test_y_28\")"
   ]
  }
 ],
 "metadata": {
  "kernelspec": {
   "display_name": "Python 3.8.13 ('project3')",
   "language": "python",
   "name": "python3"
  },
  "language_info": {
   "codemirror_mode": {
    "name": "ipython",
    "version": 3
   },
   "file_extension": ".py",
   "mimetype": "text/x-python",
   "name": "python",
   "nbconvert_exporter": "python",
   "pygments_lexer": "ipython3",
   "version": "3.8.13"
  },
  "orig_nbformat": 4,
  "vscode": {
   "interpreter": {
    "hash": "d543559e11e6628189d41d39063b5a78f8ec6e1e150dbe126acc11bcd9d1cd7e"
   }
  }
 },
 "nbformat": 4,
 "nbformat_minor": 2
}
